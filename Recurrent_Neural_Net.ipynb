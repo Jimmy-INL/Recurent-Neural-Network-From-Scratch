{
 "cells": [
  {
   "cell_type": "markdown",
   "metadata": {},
   "source": [
    "# Recurrent Neural Network\n",
    "\n",
    "In this jupyter notebook we will focus on $\\textit{Recurrent Neural Network}$ which is a neural network that makes use of sequential information. It uses the order of inputs to create a logical connection between them, which is very useful in tasks like natural language processing, speech recognition and video activity recognition. \n",
    "\n",
    "\n",
    "<img src=\"rec_neu_net/rec_net.png\"  style=\"width=:70% ;height=:70%\">"
   ]
  },
  {
   "cell_type": "markdown",
   "metadata": {},
   "source": [
    "# Problem\n",
    "For a given set $D = \\{(x_n, y_n)\\}_{n=1}^N$ classify each $\\textit{y}_t$ for the new $\\textbf{x}$. Where $\\textit{y}_t$ is a single 'word' of whole output sequence $\\textit{y}$.\n",
    "\n",
    "<h3>Examples</h3>\n",
    "\n",
    "\n",
    "<img src=\"rec_neu_net/thanks_to_Andrew.png\" style=\"width=:70% ;height=:70%\">"
   ]
  },
  {
   "cell_type": "code",
   "execution_count": 1,
   "metadata": {},
   "outputs": [],
   "source": [
    "import numpy as np\n",
    "import matplotlib.pyplot as plt\n",
    "from tqdm import tqdm_notebook\n",
    "from functools import reduce"
   ]
  },
  {
   "cell_type": "markdown",
   "metadata": {},
   "source": [
    "# Simple Example:\n",
    "\n",
    "We are going to create Recurrent Neural Network (RNN) model to add binary numbers up to 256.\n",
    "<img src=\"rec_neu_net/binary_summation.gif\" style=\"width:30% ;height:30%;\">\n",
    "\n"
   ]
  },
  {
   "cell_type": "markdown",
   "metadata": {},
   "source": [
    "# Input Data\n",
    "First of all we need to prepare some data for training. To do so we will create a dictionary that maps integers for binaries."
   ]
  },
  {
   "cell_type": "code",
   "execution_count": 2,
   "metadata": {},
   "outputs": [],
   "source": [
    "def create_int2bin_dict(binary_dim=8):\n",
    "    '''\n",
    "    returns a dictionary of integers tranlsated to binaries\n",
    "    '''\n",
    "    int2binary = {}\n",
    "\n",
    "    largest_number = pow(2, binary_dim)\n",
    "    binary = np.unpackbits(\n",
    "        np.array([range(largest_number)], dtype=np.uint8).T, axis=1)\n",
    "    for i in range(largest_number):\n",
    "        int2binary[i] = binary[i]\n",
    "    return int2binary"
   ]
  },
  {
   "cell_type": "code",
   "execution_count": 3,
   "metadata": {},
   "outputs": [
    {
     "name": "stdout",
     "output_type": "stream",
     "text": [
      "Integer: 5, binary format: [0 0 0 0 0 1 0 1]\n",
      "Integer: 109, binary format: [0 1 1 0 1 1 0 1]\n",
      "Integer: 21, binary format: [0 0 0 1 0 1 0 1]\n"
     ]
    }
   ],
   "source": [
    "int2binary = create_int2bin_dict()\n",
    "\n",
    "integers = [5, 109, 21]\n",
    "for integer in integers:\n",
    "    print('Integer: {}, binary format: {}'.format(integer, int2binary[integer]))\n",
    "\n"
   ]
  },
  {
   "cell_type": "markdown",
   "metadata": {},
   "source": [
    "# RNN Model\n",
    "\n",
    "We will create RNN with one hidden layer. RNN differs from simple feedforward NN as the output is dependent not only from input, but also from previous computations. We need to provide data from previous iterations on single sequence.\n",
    "\n",
    "<img src=\"rec_neu_net/rec_net_explained.png\" style=\"width:60% ;height:60%;\">\n",
    "\n",
    "Notice that on the image Wxa are weights between input and hidden layer, Wah are weights between hidden layer and Waa are weights between hidden layers.\n",
    "\n",
    "Just like in feedforward neural network we are in need of some non-linear functions like sigmoid."
   ]
  },
  {
   "cell_type": "markdown",
   "metadata": {},
   "source": [
    "# Sigmoid\n",
    "We are going to use sigmoid non-linear function, that is defined:\n",
    "\n",
    "$\\sigma(x) = \\frac{1}{1+e^{-x}}$\n",
    "\n",
    "And looks like this below:\n",
    "<img src=\"rec_neu_net/sigmoid.jpg\" height=\"40%\" width=\"40%\">\n",
    "\n",
    "We also need to know sigmoid derivative which is equal to:\n",
    "$\\frac{\\delta \\sigma}{\\delta x} = \\sigma(x) \\cdot (1 - \\sigma(x)) $"
   ]
  },
  {
   "cell_type": "code",
   "execution_count": 4,
   "metadata": {},
   "outputs": [],
   "source": [
    "def sigmoid(x):\n",
    "    '''\n",
    "    param x: input matrix of size NxM\n",
    "    '''\n",
    "    return 1/(1+np.exp(-x))\n"
   ]
  },
  {
   "cell_type": "code",
   "execution_count": 5,
   "metadata": {},
   "outputs": [
    {
     "name": "stdout",
     "output_type": "stream",
     "text": [
      "Sigmoid for small value f.e. -100 equals: 0.000\n",
      "Sigmoid of big values f.e. 100 equals: 1.000\n"
     ]
    }
   ],
   "source": [
    "print('Sigmoid for small value f.e. -100 equals: {:.3f}'.format(sigmoid(-100)))\n",
    "print('Sigmoid of big values f.e. 100 equals: {:.3f}'.format(sigmoid(100)))"
   ]
  },
  {
   "cell_type": "markdown",
   "metadata": {},
   "source": [
    "# Notation:\n",
    "$x^{<t>}$ - the $t^{th}$ input of the sequence\n",
    "\n",
    "$z^{<t>}$ - values in activation layer before non-linear function at $t^{th}$ element of the sequence\n",
    "\n",
    "$a^{<t>}$ - values in activation layer at $t^{th}$ element of the sequence, that equals $\\sigma(z^{<t>})$\n",
    "\n",
    "$y^{<t>}$ - true output for $x^{<t>}$ input \n",
    "\n",
    "$h^{<t>}$ - output layer vaule for $x^{<t>}$ input before non-linear function\n",
    "\n",
    "$\\overline{y}^{<t>}$ - predicted output for $x^{<t>}$ input after activation with non-linear function, that equals $\\sigma(h^{<t>})$\n",
    "\n",
    "\n",
    "$a^{<t-1>}$ - values in activation layer at $(t-1)^{th}$ element of the sequence (*for t=0 element in the sequence we assume $a^{<t-1>}$ equals zero)\n",
    "\n",
    "$W_{aa}$ - weights between $a^{<t-1>}$ and $a^{<t>}$ in the sequence.\n",
    "\n",
    "$W_{xa}$ - weights between input layer and hidden layer\n",
    "\n",
    "$W_{ay}$ - weights between hidden layer and output layer\n",
    "\n",
    "$\\sigma(z)$ - sigmoid non-linear function on variable z\n",
    "\n",
    "$T $ - whole lenght of a sequence"
   ]
  },
  {
   "cell_type": "markdown",
   "metadata": {},
   "source": [
    "# Variables initialization\n",
    "\n",
    "We need to initialize weights and biases for our network, as matrices filled with random values of proper sizes."
   ]
  },
  {
   "cell_type": "code",
   "execution_count": 6,
   "metadata": {},
   "outputs": [],
   "source": [
    "def initialize_random_weights(input_dim, hidden_dim, output_dim):\n",
    "    '''\n",
    "    param input_dim: number of cells in input layer\n",
    "    param output_dim: number of cells in output layer \n",
    "    param hidden_dim: number of nods in hidden layer\n",
    "    return: tuple of Wxa, Waa, Way\n",
    "    '''\n",
    "    np.random.seed(100)\n",
    "    Wxa = 2 * np.random.random((input_dim, hidden_dim)) - 1\n",
    "    Waa = 2*np.random.random((hidden_dim, hidden_dim))-1\n",
    "    Way = 2 * np.random.random((hidden_dim, output_dim)) - 1\n",
    "\n",
    "\n",
    "    return (Wxa, Waa, Way)"
   ]
  },
  {
   "cell_type": "code",
   "execution_count": 7,
   "metadata": {},
   "outputs": [
    {
     "name": "stdout",
     "output_type": "stream",
     "text": [
      "Wxa (from input layer to hidden layer) shape: (2, 10)\n",
      "Waa (from previous execution of hidden layer to current hidden layer) shape: (10, 10)\n",
      "Way (from hidden layer to output layer) shape: (10, 1)\n"
     ]
    }
   ],
   "source": [
    "#example usage\n",
    "Wxa, Waa, Way = initialize_random_weights(input_dim = 2, hidden_dim = 10, output_dim=1)\n",
    "\n",
    "print(\"Wxa (from input layer to hidden layer) shape: {}\".format(Wxa.shape))\n",
    "print(\"Waa (from previous execution of hidden layer to current hidden layer) shape: {}\".format(Waa.shape))\n",
    "print(\"Way (from hidden layer to output layer) shape: {}\".format(Way.shape))\n",
    "\n"
   ]
  },
  {
   "cell_type": "markdown",
   "metadata": {},
   "source": [
    "# Feed forward for single element - steps and description\n",
    "\n",
    "<h3>Steps: </h3>\n",
    "1. $z^{<t>} = W_{aa} \\times a^{<t-1>} + W_{xa} \\times x^{<th>}$\n",
    "2. $a^{<t>} = \\sigma(z^{<t>})$\n",
    "3. $\\overline{y}^{<t>} = \\sigma(W_{ay} \\times a^{<t>})$\n",
    "\n",
    "We need to compute values at hidden layer for $t^{th}$ element using $x^{<t>}$ input and $a^{<t-1>}$ hidden layer values, and then with them we can compute $\\overline{y}^{<t>}$ output. \n",
    "\n",
    "<img src=\"rec_neu_net/feed_forward.gif\" height=\"60%\" width=\"60%\">\n",
    "\n",
    "As we can see on this animation values at hidden layer depends not only on input, but also on values of hidden layers for previous inputs.\n"
   ]
  },
  {
   "cell_type": "code",
   "execution_count": 8,
   "metadata": {},
   "outputs": [],
   "source": [
    "def feed_forward(a, b, W):\n",
    "    '''\n",
    "    param a: input vector - binary number\n",
    "    param b: input vector - 2nd binary number \n",
    "    param W: tuple of Wxa, Waa, Way\n",
    "    return: pair of lists y_values, hidden_values \n",
    "    '''\n",
    "    binary_dim = a.shape[0]\n",
    "    \n",
    "    Wxa, Waa, Way = W\n",
    "    \n",
    "    hidden_dim = Waa.shape[0]\n",
    "    \n",
    "    hidden_values = []\n",
    "    hidden_values.append(np.zeros((1, hidden_dim)))\n",
    "    \n",
    "    y_values = [] \n",
    "    \n",
    "    for t in range(binary_dim):\n",
    "        x_t = np.array([[a[binary_dim - t - 1], b[binary_dim - t - 1]]]) \n",
    "\n",
    "        z_t = x_t @ Wxa + hidden_values[-1] @ Waa\n",
    "        a_t = sigmoid(z_t)\n",
    "\n",
    "        h_t = a_t @ Way\n",
    "        y_t = sigmoid(h_t)\n",
    "\n",
    "        y_values.append(y_t)\n",
    "        hidden_values.append(a_t)\n",
    "        \n",
    "    \n",
    "    return y_values, hidden_values"
   ]
  },
  {
   "cell_type": "markdown",
   "metadata": {},
   "source": [
    "# Cost function:\n",
    "\n",
    "At start weights are random numbers, so we need to find parameters that will predict output with the smallest error. we are going to search for them using gradient descent, which is a method that allows to reach local minimum by substracting derivatives values from weights.\n",
    "\n",
    "Before computing the gradient we need to define cost function, which in our case will be cross-entropy, but we could use mean squared error as well for this task:  $J = \\frac{1}{N}\\sum_{i=0}^N \\big( y_i \\cdot \\ln{\\overline{y}_i + (1-y_i)\\cdot(\\ln{(1-\\overline{y}_i)}) } \\big)$\n",
    "\n",
    "The cost function will let us measure how bad our model works."
   ]
  },
  {
   "cell_type": "markdown",
   "metadata": {},
   "source": [
    "# Backpropagation\n",
    "\n",
    "After defining cost function we can go to the part that is responsible for learning parameters - called backpropagation, with use of gradient descent.\n",
    "\n",
    "<h3>Gradient descent steps in sequence</h3>\n",
    "\n",
    "1. Compute the error on $\\overline{y}$ as derivative of the cost function (gradient)\n",
    "2. Compute the error on output layer before activation\n",
    "3. Compute the gradient of weights $W_{ay}$\n",
    "4. Compute the error on $a$ using chain rule from output and error from next execution of hidden layer. For last layer we assume that error on 'next' execution equals 0 as it doesn't exist.\n",
    "5. Compute the error on $z$ from $a$\n",
    "6. Compute the gradient of weights $W_{aa}$\n",
    "7. Compute the gradient of weights $W_{xa}$ \n",
    "\n",
    "<h3>Gradient descent in steps for people familiar with calculus</h3>\n",
    "\n",
    "1) Error on $\\overline{y}^{<t>} = \\frac{\\delta J}{\\delta \\overline{y}^{<t>}} = \\frac{\\delta y^{<t>}}{\\delta\\overline{y}^{<t>}} - \\frac{1-y^{<t>}}{(1-\\overline{y}^{<t>})} = \n",
    "\\frac{y^{<t>}-\\overline{y}^{<t>}}{\\overline{y}^{<t>}\\cdot(\\overline{y}^{<t>}-1)}$\n",
    "\n",
    "\n",
    "2) Error on $h^{<t>} = \\frac{\\delta J}{\\delta h^{<t>}} =  \\frac{\\delta J}{\\delta \\overline{y}^{<t>}} \\cdot \\frac{\\delta \\overline{y}^{<t>}}{\\delta h^{<t>}} = \\frac{y^{<t>} - \\overline{y}^{<t>}}{\\overline{y}^{<t>}\\cdot(\\overline{y}^{<t>}-1)} \\cdot (\\overline{y}^{<t>}\\cdot(\\overline{y}^{<t>}-1)) = y^{<t>} - \\overline{y}^{<t>} $\n",
    "\n",
    "\n",
    "3) Gradient of $W_{ay} = \\frac{\\delta J}{\\delta W_{ay}} = \\sum_{t=0}^{T} \\big( \\frac{\\delta J}{\\delta \\overline{y}^{<t>}} \\cdot \\frac{\\delta \\overline{y}^{<t>}}{\\delta h^{<t>}} \\cdot \\frac{\\delta h^{<t>}}{\\delta W_{ay}} \\big) =\n",
    "\\sum_{t=0}^{T} \\big( \\frac{\\delta {J}}{\\delta h^{<t>}} \\cdot \\frac{\\delta h^{<t>}}{\\delta W_{ay}} \\big) =\n",
    "\\sum_{t=0}^{T} \\big( \\frac{\\delta {J}}{\\delta h^{<t>}} \\cdot a^{<t>} \\big)$, as $\\frac{\\delta h^{<t>}}{\\delta W_{ay}} = a^{<t>}$, because $h^{<t>} = a^{<t>} \\times W_{ay} $ \n",
    "\n",
    "\n",
    "4) Error on $a^{<t>} = \\frac{\\delta J}{\\delta a^{<t>}} = \\sum_{i=t}^T \\big( \\frac{\\delta J}{\\delta h^{<i>}} \\cdot \\frac{\\delta h^{<i>}}{\\delta a^{<t>}} \\big) = \\frac{\\delta J}{\\delta h^{<t>}} \\cdot \\frac{\\delta h^{<t>}}{\\delta a^{<t>}} + \\frac{\\delta J}{\\delta a^{<t+1>}} \\cdot \\frac{\\delta a^{<t+1>}}{\\delta a^{<t>}} \n",
    "= \\frac{\\delta J}{\\delta h^{<t>}} \\cdot W_{ay} + \\frac{\\delta J}{\\delta a^{<t+1>}} \\cdot W_{aa}\n",
    "$, as $\\frac{\\delta h^{<t>}}{\\delta a^{<t>}} = W_{ay}$ and $\\frac{\\delta a^{<t+1>}}{\\delta a^{<t>}}= W_{aa} $, because\n",
    "$h^{<t>} = a^{<t>} \\times W_{ay}$ and $ a^{<t+1>} = a^{<t>} \\times W_{aa}$\n",
    "\n",
    "<i>At this point you can get a little shock, but it only looks terrible. Calculating the first part of $\\frac{\\delta J}{\\delta a^{<t>}}$ that comes from $h^{<t>}$ layer works just like in feedforward neural network. Rest of the sum comes from passing the data from hidden layer$^{<t>}$ to hidden layer in execution$^{<t+1>}$. Anyway - all you need to do is to calculate the error on last execution of hidden layer, that equals 0 + the part from $h^{<T>}$ layer. And then use this error to calculate error on execution$^{<T-1>}$ and go again and again backward until you get error on first execution  of hidden layer ($a^{<0>}$)</i>\n",
    "\n",
    "\n",
    "5) Error on $z^{<t>} = \\frac{\\delta J}{\\delta z^{<t>}} = \\frac{\\delta J}{\\delta a^{<t>}} \\cdot \\frac{\\delta a^{<t>}}{\\delta z^{<t>}} = \\frac{\\delta J}{\\delta a^{<t>}} \\cdot a^{<t>}(1-a^{<t>})$, as $\\frac{\\delta a^{<t>}}{\\delta z^{<t>}} = a^{<t>}\\cdot(1-a^{<t>}) $, because $a^{<t>} = \\sigma(z^{<t>})$\n",
    "\n",
    "\n",
    "6) Gradient of $W_{aa} = \\frac{\\delta J}{\\delta W_{aa}} = \\sum_{t=0}^T \\big(\\frac{\\delta J}{\\delta z^{<t>}} \\cdot \\frac{\\delta z^{<t>}}{\\delta W_{aa}} \\big)  = \\sum_{t=0}^T \\big(\\frac{\\delta J}{\\delta z^{<t>}}\\cdot a^{<t-1>} \\big)$, as $\\frac{\\delta z^{<t>}}{\\delta W_{aa}} = a^{<t-1>}$, because $z^{<t>} = x^{<t>} \\times W_{xa} + a^{<t-1>} \\times W_{aa} $\n",
    "\n",
    "\n",
    "7) Gradient of $W_{xa} = \\frac{\\delta J}{\\delta W_{xa}} = \\sum_{t=0}^T \\big(\\frac{\\delta J}{\\delta z^{<t>}} \\cdot \\frac{\\delta z^{<t>}}{\\delta W_{xa}}\\big) = \\sum_{t=0}^T\\big(\\frac{\\delta J}{\\delta z^{<t>}}\\cdot x^{<t>}\\big)$, as $\\frac{\\delta z^{<t>}}{\\delta W_{xa}} = x^{<t>}$, because $z^{<t>} = x^{<t>} \\times W_{xa} + a^{<t-1>} \\times W_{aa} $\n",
    "\n",
    "In the code you can see the same operations done on matrices. Somewhere there code will be a little bit diffrent due to matrices operations (to compute gradient sometimes it's needed to transpose matrix).\n",
    "\n",
    "<img src=\"rec_neu_net/backprop_through_time.gif\" height=\"60%\" width=\"60%\">"
   ]
  },
  {
   "cell_type": "code",
   "execution_count": 9,
   "metadata": {},
   "outputs": [],
   "source": [
    "def back_propagation(a, b, c, W, y_values, hidden_values):\n",
    "    '''\n",
    "    param a: ndarray- binary number, one of the inputs\n",
    "    param b: ndarray - binary number, second of the inputs\n",
    "    param c: ndarray - the true output\n",
    "    param W: tuple of weights Wax, Waa, Way\n",
    "    param y_values: ndarray of predicted output\n",
    "    param hidden_values: ndarray, activation layer values at each execution t\n",
    "    '''\n",
    "    binary_dim = a.shape[0]\n",
    "\n",
    "    error = 0\n",
    "\n",
    "    Wxa, Waa, Way = W\n",
    "\n",
    "    hidden_dimension = Waa.shape[0]\n",
    "\n",
    "    Wxa_update = 0\n",
    "    Waa_update = 0\n",
    "    Way_update = 0\n",
    "    \n",
    "    next_input_hidden_delta = np.zeros((1, hidden_dimension))\n",
    "\n",
    "    for t in range(binary_dim):\n",
    "        predicted = y_values[-t - 1]\n",
    "\n",
    "        y = np.array([[c[t]]])\n",
    "\n",
    "        error += np.abs(np.mean(y * np.log(predicted) + (1 - y) * np.log(1 - predicted)))\n",
    "        dJ_dz3 = -(y - predicted)\n",
    "\n",
    "        x = np.array([[a[t], b[t]]])\n",
    "        a2 = hidden_values[-t - 1]\n",
    "        prev_a2 = hidden_values[-t - 2]\n",
    "\n",
    "        dJ_da2 = next_input_hidden_delta @ Waa.T + dJ_dz3 @ Way.T\n",
    "        dJ_dz2 = dJ_da2 * (a2 * (1-a2))\n",
    "\n",
    "        Way_update += a2.T @ dJ_dz3\n",
    "        Waa_update += prev_a2.T @ dJ_dz2\n",
    "        Wxa_update += x.T @ dJ_dz2\n",
    "\n",
    "        next_input_hidden_delta = dJ_dz2\n",
    "\n",
    "    W_updates = (Wxa_update, Waa_update, Way_update)\n",
    "\n",
    "    return W_updates, error"
   ]
  },
  {
   "cell_type": "markdown",
   "metadata": {},
   "source": [
    "# Training\n",
    "After backpropagation we can update weights by substracting from them those gradients multiplied by hyperparamter called learning rate, which defines how fast our model is learning itself.\n",
    "\n",
    "<h3> Steps for training </h3>\n",
    "$W_{ax} := W_{ax} - learning\\_rate \\cdot \\frac{\\delta J}{\\delta W_{ax}}$\n",
    "\n",
    "$W_{aa} := W_{aa} - learning\\_rate \\cdot \\frac{\\delta J}{\\delta W_{aa}}$\n",
    "\n",
    "$W_{ay} := W_{ay} - learning\\_rate \\cdot \\frac{\\delta J}{\\delta W_{ay}}$\n",
    "\n",
    "\n",
    "0 - Initialize weights with random values\n",
    "\n",
    "For k times (where k is number of epochs)\n",
    "\n",
    "1. Process forward pass to get values at layers\n",
    "2. Process backward pass to get error at weights\n",
    "3. Update weights to be closer to Cost function minimum"
   ]
  },
  {
   "cell_type": "code",
   "execution_count": 10,
   "metadata": {},
   "outputs": [],
   "source": [
    "def train(int2binary, binary_dimension, input_dimension=2, \n",
    "          hidden_dimension=16, output_dimension=1, epochs=10_000, learning_rate=1e-3):\n",
    "    '''\n",
    "    param int2binary: dictionary that mpas integer numbers into binary\n",
    "\n",
    "    param binary_dimension: max length of binary number\n",
    "\n",
    "    param input_dimension: number of nodes in input layer for single execution\n",
    "\n",
    "    param hidden_dimension: nubmer of nodes in hidden layer\n",
    "\n",
    "    param output_dimension: number of nodes in output layer for single execution\n",
    "\n",
    "    param epochs: number of epochs\n",
    "    \n",
    "    param learning rate: hyperparameter - rate of learning speed\n",
    "    \n",
    "    return: funcion return weights Wxa, Waa, Way and costs\n",
    "    '''\n",
    "\n",
    "    largest_number = pow(2, binary_dimension)\n",
    "\n",
    "\n",
    "    Wxa = 2 * np.random.random((input_dimension, hidden_dimension)) - 1\n",
    "    Waa = 2 * np.random.random((hidden_dimension, hidden_dimension)) - 1\n",
    "    Way = 2 * np.random.random((hidden_dimension, output_dimension)) - 1\n",
    "\n",
    "    costs_in_batch = []\n",
    "    costs = []\n",
    "\n",
    "    for epoch in tqdm_notebook(range(epochs)):\n",
    "        # first binary number\n",
    "        a_int = np.random.randint(largest_number / 2)  # int version\n",
    "        a = int2binary[a_int]\n",
    "\n",
    "        # second binary number\n",
    "        b_int = np.random.randint(largest_number / 2)  # int version\n",
    "        b = int2binary[b_int]\n",
    "\n",
    "        # true answer\n",
    "        c_int = a_int + b_int\n",
    "        c = int2binary[c_int]\n",
    "\n",
    "        W = (Wxa, Waa, Way)\n",
    "\n",
    "        y_values, hidden_values = feed_forward(a, b, W)\n",
    "\n",
    "        W_updates, cost = back_propagation(a, b, c, W, y_values, hidden_values)\n",
    "\n",
    "        costs_in_batch.append(cost)\n",
    "\n",
    "        if epoch % 500 == 1:\n",
    "            mean_in_batch = reduce(lambda x, y: x + y, costs_in_batch) / len(costs_in_batch)\n",
    "            costs.append(mean_in_batch)\n",
    "            costs_in_batch = []\n",
    "\n",
    "        Wxa_update, Waa_update, Way_update = W_updates\n",
    "\n",
    "        Wxa -= Wxa_update * learning_rate\n",
    "        Waa -= Waa_update * learning_rate\n",
    "        Way -= Way_update * learning_rate\n",
    "\n",
    "\n",
    "\n",
    "    W = Wxa, Waa, Way\n",
    "\n",
    "    return W, costs"
   ]
  },
  {
   "cell_type": "markdown",
   "metadata": {},
   "source": [
    "# Prediction\n",
    "\n",
    "Prediction is a single feed forward part for each input pair, to generate expected sum."
   ]
  },
  {
   "cell_type": "code",
   "execution_count": 11,
   "metadata": {},
   "outputs": [],
   "source": [
    "def predict(int2binary, binary_dim, W):\n",
    "    '''\n",
    "    param int2binary: dictionary that maps integer values into binary\n",
    "    param binary_dim: maximum length of binary number\n",
    "    param W: tuple of weights Wxa, Waa, Way\n",
    "    \n",
    "    '''\n",
    "    Wxa, Waa, Way = W\n",
    "\n",
    "\n",
    "    largest_number = pow(2, binary_dim)\n",
    "\n",
    "    # first binary number\n",
    "    a_int = np.random.randint(largest_number / 2)  # int version\n",
    "    a = int2binary[a_int]\n",
    "\n",
    "    # second binary number\n",
    "    b_int = np.random.randint(largest_number / 2)  # int version\n",
    "    b = int2binary[b_int]\n",
    "\n",
    "    # true answer\n",
    "    c_int = a_int + b_int\n",
    "    c = int2binary[c_int]\n",
    "\n",
    "    hidden_dimension = Waa.shape[0]\n",
    "\n",
    "    prediction = np.zeros_like(c)\n",
    "\n",
    "    hidden_values = [np.zeros((1, hidden_dimension))]\n",
    "\n",
    "    for t in range(binary_dim):\n",
    "        x_t = np.array([[a[binary_dim - t - 1], b[binary_dim - t - 1]]])\n",
    "\n",
    "        z_t = x_t @ Wxa + hidden_values[-1] @ Waa\n",
    "        a_t = sigmoid(z_t)\n",
    "\n",
    "        h_t = a_t @ Way\n",
    "        y_t = sigmoid(h_t)\n",
    "\n",
    "        prediction[binary_dim - t - 1] = np.round(y_t)\n",
    "\n",
    "        hidden_values.append(a_t)\n",
    "\n",
    "    print(\"Predicted:\" + str(prediction))\n",
    "    print(\"True:\" + str(c))\n",
    "\n",
    "    out = 0\n",
    "    for index, x in enumerate(reversed(prediction)):\n",
    "        out += x * pow(2, index)\n",
    "    print(str(a_int) + \" + \" + str(b_int) + \" = \" + str(out))"
   ]
  },
  {
   "cell_type": "code",
   "execution_count": 12,
   "metadata": {},
   "outputs": [
    {
     "data": {
      "application/vnd.jupyter.widget-view+json": {
       "model_id": "2febae52ea9543df9df9d0f4c51c2b5e",
       "version_major": 2,
       "version_minor": 0
      },
      "text/plain": [
       "HBox(children=(IntProgress(value=0, max=20000), HTML(value='')))"
      ]
     },
     "metadata": {},
     "output_type": "display_data"
    },
    {
     "name": "stdout",
     "output_type": "stream",
     "text": [
      "\n"
     ]
    },
    {
     "data": {
      "image/png": "[encoded data removed]",
      "text/plain": [
       "<Figure size 432x288 with 1 Axes>"
      ]
     },
     "metadata": {},
     "output_type": "display_data"
    },
    {
     "name": "stdout",
     "output_type": "stream",
     "text": [
      "Predicted:[1 0 0 1 1 0 1 1]\n",
      "True:[1 0 0 1 1 0 1 1]\n",
      "39 + 116 = 155\n",
      "Predicted:[1 1 0 1 0 0 0 1]\n",
      "True:[1 1 0 1 0 0 0 1]\n",
      "83 + 126 = 209\n",
      "Predicted:[0 1 0 1 1 0 0 1]\n",
      "True:[0 1 0 1 1 0 0 1]\n",
      "68 + 21 = 89\n",
      "Predicted:[0 1 0 0 1 1 0 1]\n",
      "True:[0 1 0 0 1 1 0 1]\n",
      "28 + 49 = 77\n",
      "Predicted:[0 1 1 1 1 1 1 0]\n",
      "True:[0 1 1 1 1 1 1 0]\n",
      "24 + 102 = 126\n",
      "Predicted:[1 0 0 0 0 0 0 0]\n",
      "True:[1 0 0 0 0 0 0 0]\n",
      "11 + 117 = 128\n",
      "Predicted:[1 0 1 1 0 1 0 0]\n",
      "True:[1 0 1 1 0 1 0 0]\n",
      "83 + 97 = 180\n",
      "Predicted:[1 0 0 1 0 0 1 1]\n",
      "True:[1 0 0 1 0 0 1 1]\n",
      "44 + 103 = 147\n",
      "Predicted:[0 1 0 1 1 1 0 1]\n",
      "True:[0 1 0 1 1 1 0 1]\n",
      "79 + 14 = 93\n",
      "Predicted:[0 0 1 1 1 0 1 1]\n",
      "True:[0 0 1 1 1 0 1 1]\n",
      "19 + 40 = 59\n"
     ]
    }
   ],
   "source": [
    "np.random.seed(0)\n",
    "\n",
    "binary_dim = 8\n",
    "largest_number = pow(2, binary_dim)\n",
    "int2binary = create_int2bin_dict(binary_dim)\n",
    "\n",
    "W, costs = train(int2binary, binary_dim, epochs=20_000, learning_rate=1e-2)\n",
    "\n",
    "plt.plot(costs)\n",
    "plt.xlabel('Training time')\n",
    "plt.ylabel('Cost value')\n",
    "plt.title('Cost')\n",
    "plt.grid()\n",
    "plt.show()\n",
    "\n",
    "for i in range(10):\n",
    "    predict(int2binary, binary_dim, W)"
   ]
  },
  {
   "cell_type": "markdown",
   "metadata": {},
   "source": [
    "# Sources:\n",
    "\n",
    "Followed sources were usefull during creating this notebook:\n",
    "\n",
    "https://iamtrask.github.io/2015/11/15/anyone-can-code-lstm/, Andrew Trask the whole idea about summing up binaries, gifs about feed forward and backpropagation.\n",
    "\n",
    "https://magenta.tensorflow.org/2016/06/10/recurrent-neural-network-generation-tutorial, scheme image of recurrent neural network\n",
    "\n",
    "https://www.coursera.org/specializations/deep-learning, Prof. Andrew Ng - examples of RNN usage \n",
    "\n",
    "\n",
    "\n",
    "\n"
   ]
  }
 ],
 "metadata": {
  "kernelspec": {
   "display_name": "Python 3",
   "language": "python",
   "name": "python3"
  },
  "language_info": {
   "codemirror_mode": {
    "name": "ipython",
    "version": 3
   },
   "file_extension": ".py",
   "mimetype": "text/x-python",
   "name": "python",
   "nbconvert_exporter": "python",
   "pygments_lexer": "ipython3",
   "version": "3.6.5"
  }
 },
 "nbformat": 4,
 "nbformat_minor": 2
}
